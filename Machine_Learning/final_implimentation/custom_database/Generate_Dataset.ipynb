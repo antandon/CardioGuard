{
 "cells": [
  {
   "cell_type": "code",
   "execution_count": 1,
   "id": "7485f38c-50c5-485a-bba6-f2bfba73fd27",
   "metadata": {},
   "outputs": [],
   "source": [
    "import pandas as pd\n",
    "import numpy as np\n"
   ]
  },
  {
   "cell_type": "code",
   "execution_count": 12,
   "id": "60301440-7c78-4fc9-9fc1-da8774001d9b",
   "metadata": {},
   "outputs": [
    {
     "name": "stdout",
     "output_type": "stream",
     "text": [
      "   Age  Gender  Weight  Height  Chest Pain Type  Heart Rate  \\\n",
      "0   68       0      73     170                3         107   \n",
      "1   81       0      74     173                2          98   \n",
      "2   58       0      84     178                0          90   \n",
      "3   44       0      51     142                1          69   \n",
      "4   72       1      71     147                0          89   \n",
      "\n",
      "   Systolic Blood Pressure  Diastolic Blood Pressure  Smoking  \\\n",
      "0                      124                        51        0   \n",
      "1                      112                        79        0   \n",
      "2                      120                       101        0   \n",
      "3                      140                        58        1   \n",
      "4                      109                        71        0   \n",
      "\n",
      "   Number of Cygrets Per Day  Diabetes  Anaemia  Any Past Heart Failures  \\\n",
      "0                          0         0        1                        1   \n",
      "1                          0         0        1                        1   \n",
      "2                          0         0        0                        1   \n",
      "3                         17         0        1                        1   \n",
      "4                          0         1        0                        0   \n",
      "\n",
      "   SpO2 Level  BPM  Heart Failure  \n",
      "0          79    1              1  \n",
      "1          75    1              1  \n",
      "2          94    0              0  \n",
      "3          99    2              0  \n",
      "4          91    2              0  \n",
      "Synthetic dataset created and saved as 'synthetic_heart_failure_data_with_conditions_v3.csv'\n"
     ]
    }
   ],
   "source": [
    "# Set random seed for reproducibility\n",
    "np.random.seed(42)\n",
    "\n",
    "# Number of samples\n",
    "n_samples = 1500\n",
    "\n",
    "# Generate synthetic data\n",
    "data = {\n",
    "    'Age': np.random.randint(30, 90, n_samples),  # Age between 30 and 90\n",
    "    'Gender': np.random.choice([1, 0], n_samples),  # Male=1 or Female=0\n",
    "    'Weight': np.random.randint(48, 96, n_samples),  # Weight between 50 and 120 kg\n",
    "    'Height': np.random.randint(140, 180, n_samples),  # Height between 150 and 200 cm\n",
    "    'Chest Pain Type': np.random.choice([0, 1, 2, 3], n_samples),  # Chest Pain Type 'None'=0, 'Mild'=1, 'Moderate'=2, 'Severe'=3\n",
    "    'Heart Rate': np.random.randint(60, 130, n_samples),  # Heart Rate between 60 and 150 bpm\n",
    "    'Systolic Blood Pressure': np.random.randint(100, 160, n_samples),  # Systolic BP between 90 and 180 mmHg\n",
    "    'Diastolic Blood Pressure': np.random.randint(50, 120, n_samples),  # Diastolic BP between 60 and 120 mmHg\n",
    "    'Smoking': np.random.choice([0, 1], n_samples),  # 0 = Non-Smoker, 1 = Smoker\n",
    "    'Number of Cygrets Per Day': np.random.randint(0, 40, n_samples),  # Cigarettes per day, 0 for non-smokers\n",
    "    'Diabetes': np.random.choice([0, 1], n_samples),  # 0 = No, 1 = Yes\n",
    "    'Anaemia': np.random.choice([0, 1], n_samples),  # 0 = No, 1 = Yes\n",
    "    'Any Past Heart Failures': np.random.choice([0, 1], n_samples),  # 0 = No, 1 = Yes\n",
    "    'SpO2 Level': np.random.randint(70, 100, n_samples),  # SpO2 Level between 85% and 100%\n",
    "    'BPM': np.random.choice([0, 1, 2], n_samples), # 0=LOW, 1=Normal, 2=HIGH\n",
    "}\n",
    "\n",
    "# Convert to DataFrame\n",
    "df = pd.DataFrame(data)\n",
    "\n",
    "# Define heart failure condition based on given criteria\n",
    "conditions = (\n",
    "    (df['Heart Rate'] > 85) & \n",
    "    (df['Chest Pain Type'] >= 1) &\n",
    "    (df['Any Past Heart Failures'] == 1)\n",
    ")\n",
    "\n",
    "# Assign Heart Failure = 1 for rows meeting the condition, otherwise 0\n",
    "df['Heart Failure'] = np.where(conditions, 1, 0)\n",
    "\n",
    "# Ensure consistency: Non-smokers should have 'Number of Cygrets Per Day' set to 0\n",
    "df.loc[df['Smoking'] == 0, 'Number of Cygrets Per Day'] = 0\n",
    "\n",
    "# Display the first few rows of the dataset\n",
    "print(df.head())\n",
    "\n",
    "# Save to a CSV file\n",
    "df.to_csv('synthetic_heart_failure_data_with_conditions_v3.csv', index=False)\n",
    "\n",
    "print(\"Synthetic dataset created and saved as 'synthetic_heart_failure_data_with_conditions_v3.csv'\")\n",
    "\n"
   ]
  },
  {
   "cell_type": "code",
   "execution_count": null,
   "id": "69d17c63-4497-4a36-9af4-467ef84319a9",
   "metadata": {},
   "outputs": [],
   "source": []
  }
 ],
 "metadata": {
  "kernelspec": {
   "display_name": "Python 3 (ipykernel)",
   "language": "python",
   "name": "python3"
  },
  "language_info": {
   "codemirror_mode": {
    "name": "ipython",
    "version": 3
   },
   "file_extension": ".py",
   "mimetype": "text/x-python",
   "name": "python",
   "nbconvert_exporter": "python",
   "pygments_lexer": "ipython3",
   "version": "3.8.10"
  }
 },
 "nbformat": 4,
 "nbformat_minor": 5
}
